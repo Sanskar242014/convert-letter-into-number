{
 "cells": [
  {
   "cell_type": "markdown",
   "metadata": {},
   "source": [
    "# Two different approaches to convert the letter into number"
   ]
  },
  {
   "cell_type": "markdown",
   "metadata": {},
   "source": [
    "Using ord() Method"
   ]
  },
  {
   "cell_type": "markdown",
   "metadata": {},
   "source": [
    "Using list comprehension"
   ]
  },
  {
   "cell_type": "markdown",
   "metadata": {},
   "source": [
    "ord() Method is a built-in method in python that takes a single character as a input and return as integer representing the unicode character"
   ]
  },
  {
   "cell_type": "code",
   "execution_count": null,
   "metadata": {},
   "outputs": [],
   "source": [
    "# We use ASCII code that assign an integer value to every character "
   ]
  },
  {
   "cell_type": "code",
   "execution_count": 6,
   "metadata": {},
   "outputs": [
    {
     "name": "stdout",
     "output_type": "stream",
     "text": [
      "[83, 97, 110, 115, 107, 97, 114, 115, 117, 112, 116, 97, 99, 111, 100, 101]\n"
     ]
    }
   ],
   "source": [
    "# take a string\n",
    "s = 'Sanskarsuptacode'\n",
    "# create an empty list to store the character number\n",
    "n_list =[]\n",
    "\n",
    "# iterate each character in string and convert to number using ord()\n",
    "for i in s:\n",
    "    n_list.append(ord(i))\n",
    "print(n_list)    \n"
   ]
  },
  {
   "cell_type": "code",
   "execution_count": 9,
   "metadata": {},
   "outputs": [
    {
     "name": "stdout",
     "output_type": "stream",
     "text": [
      "[115, 97, 110, 115, 107, 97, 114, 103, 117, 112, 116, 97, 99, 111, 100, 101]\n"
     ]
    }
   ],
   "source": [
    "# now using list comprehension\n",
    "s='sanskarguptacode'\n",
    "# using list comprehension\n",
    "n_list = [ord(x) for x in s]\n",
    "print(n_list)"
   ]
  },
  {
   "cell_type": "code",
   "execution_count": null,
   "metadata": {},
   "outputs": [],
   "source": []
  }
 ],
 "metadata": {
  "kernelspec": {
   "display_name": "Python 3",
   "language": "python",
   "name": "python3"
  },
  "language_info": {
   "codemirror_mode": {
    "name": "ipython",
    "version": 3
   },
   "file_extension": ".py",
   "mimetype": "text/x-python",
   "name": "python",
   "nbconvert_exporter": "python",
   "pygments_lexer": "ipython3",
   "version": "3.8.5"
  }
 },
 "nbformat": 4,
 "nbformat_minor": 4
}
